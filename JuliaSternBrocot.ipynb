{
 "cells": [
  {
   "cell_type": "code",
   "execution_count": 33,
   "metadata": {},
   "outputs": [],
   "source": [
    "#=\n",
    "The MIT License (MIT)\n",
    "\n",
    "Copyright © 2023 Dr Keith S Reid CAilleach Computing Ltd\n",
    "\n",
    "Permission is hereby granted, free of charge, to any person obtaining a copy of this software and associated \n",
    "documentation files (the “Software”), to deal in the Software without restriction, including without \n",
    "limitation the rights to use, copy, modify, merge, publish, distribute, sublicense, and/or sell copies of the \n",
    "Software, and to permit persons to whom the Software is furnished to do so, subject to the following \n",
    "conditions:\n",
    "\n",
    "The above copyright notice and this permission notice shall be included in all copies or substantial portions \n",
    "of the Software.\n",
    "\n",
    "THE SOFTWARE IS PROVIDED “AS IS”, WITHOUT WARRANTY OF ANY KIND, EXPRESS OR IMPLIED, INCLUDING BUT NOT LIMITED \n",
    "TO THE WARRANTIES OF MERCHANTABILITY, FITNESS FOR A PARTICULAR PURPOSE AND NONINFRINGEMENT. IN NO EVENT SHALL \n",
    "THE AUTHORS OR COPYRIGHT HOLDERS BE LIABLE FOR ANY CLAIM, DAMAGES OR OTHER LIABILITY, WHETHER IN AN ACTION OF \n",
    "CONTRACT, TORT OR OTHERWISE, ARISING FROM, OUT OF OR IN CONNECTION WITH THE SOFTWARE OR THE USE OR OTHER \n",
    "DEALINGS IN THE SOFTWARE.\n",
    "\n",
    "=#\n",
    "\n",
    "#=\n",
    "\n",
    "Julia Version 1.8.1 (2022-09-06)\n",
    "\n",
    "Date 18 Feb 2023\n",
    "\n",
    "Box Spec\n",
    "\n",
    "            .-/+oossssoo+/-.               \n",
    "        `:+ssssssssssssssssss+:`           ------------ \n",
    "      -+ssssssssssssssssssyyssss+-         OS: Ubuntu 22.04.1 LTS x86_64 \n",
    "    .ossssssssssssssssssdMMMNysssso.       Host: \n",
    "   /ssssssssssshdmmNNmmyNMMMMhssssss/      Kernel: 5.15.0-60-generic \n",
    "  +ssssssssshmydMMMMMMMNddddyssssssss+     Uptime: \n",
    " /sssssssshNMMMyhhyyyyhmNMMMNhssssssss/    Packages: \n",
    ".ssssssssdMMMNhsssssssssshNMMMdssssssss.   Shell: bash 5.1.16 \n",
    "+sssshhhyNMMNyssssssssssssyNMMMysssssss+   Resolution: \n",
    "ossyNMMMNyMMhsssssssssssssshmmmhssssssso   DE: GNOME \n",
    "ossyNMMMNyMMhsssssssssssssshmmmhssssssso   WM: Mutter \n",
    "+sssshhhyNMMNyssssssssssssyNMMMysssssss+   WM Theme: Adwaita \n",
    ".ssssssssdMMMNhsssssssssshNMMMdssssssss.   Theme: \n",
    " /sssssssshNMMMyhhyyyyhdNMMMNhssssssss/    Icons: \n",
    "  +sssssssssdmydMMMMMMMMddddyssssssss+     Terminal: \n",
    "   /ssssssssssshdmNNNNmyNMMMMhssssss/      CPU: AMD Ryzen 9 3900X (24) @ 3.800G \n",
    "    .ossssssssssssssssssdMMMNysssso.       GPU: \n",
    "      -+sssssssssssssssssyyyssss+-         Memory: 64Gb RAM\n",
    "        `:+ssssssssssssssssss+:`\n",
    "            .-/+oossssoo+/-.                                       \n",
    "                                                                   \n",
    "\n",
    "=#\n",
    "\n",
    "#=\n",
    "Intent:\n",
    "Implement Sterne Broco in Python and Julia using TDD and nothing too clever\n",
    "For speed comparison\n",
    "Roughly simlar logic in the two versions\n",
    "=#"
   ]
  },
  {
   "cell_type": "code",
   "execution_count": 34,
   "metadata": {},
   "outputs": [],
   "source": [
    "# 1 Packages\n",
    "\n",
    "using Test"
   ]
  },
  {
   "cell_type": "code",
   "execution_count": 35,
   "metadata": {},
   "outputs": [],
   "source": [
    "# 2 Structs\n",
    "\n",
    "mutable struct RationalNode\n",
    "    numerator::Int64\n",
    "    denominator::Int64\n",
    "    place::Int64\n",
    "    layer::Int64\n",
    "end"
   ]
  },
  {
   "cell_type": "code",
   "execution_count": 36,
   "metadata": {},
   "outputs": [
    {
     "data": {
      "text/plain": [
       "get_depth (generic function with 1 method)"
      ]
     },
     "execution_count": 36,
     "metadata": {},
     "output_type": "execute_result"
    }
   ],
   "source": [
    "# 3 Config\n",
    "\n",
    "function get_depth()\n",
    "    depth::Int64 = 3\n",
    "    return depth\n",
    "end"
   ]
  },
  {
   "cell_type": "code",
   "execution_count": 37,
   "metadata": {},
   "outputs": [
    {
     "data": {
      "text/plain": [
       "count_nodes (generic function with 1 method)"
      ]
     },
     "execution_count": 37,
     "metadata": {},
     "output_type": "execute_result"
    }
   ],
   "source": [
    "# 4 model\n",
    "\n",
    "function count_nodes(depth)\n",
    "    node_count::Int64 = (2^depth)-1 \n",
    "    return node_count\n",
    "end"
   ]
  },
  {
   "cell_type": "code",
   "execution_count": 38,
   "metadata": {},
   "outputs": [
    {
     "data": {
      "text/plain": [
       "init_tree (generic function with 1 method)"
      ]
     },
     "execution_count": 38,
     "metadata": {},
     "output_type": "execute_result"
    }
   ],
   "source": [
    "function init_tree(node_count, this_power)\n",
    "    # these nodes predate root and are loop invariants\n",
    "    zero_over_one   = RationalNode(0,1,0,           0)\n",
    "    one_over_zero   = RationalNode(1,0,node_count+1,0)\n",
    "\n",
    "    # cohering the branches\n",
    "    triangular_part = [RationalNode(0,0,i,1) for i in 1:node_count]\n",
    "    tree            = [zero_over_one]\n",
    "    tree = vcat(tree,triangular_part)\n",
    "    tree = vcat(tree,one_over_zero)\n",
    "    \n",
    "    # child logic\n",
    "    left_parent         = tree[this_power+this_power+1]\n",
    "    right_parent        = tree[this_power-this_power+1]\n",
    "    child_place         = this_power\n",
    "    child_numerator     = left_parent.numerator   + right_parent.numerator\n",
    "    child_denominator   = left_parent.denominator + right_parent.denominator\n",
    "    child               = RationalNode(child_numerator,child_denominator,child_place,1)\n",
    "    tree[child.place+1] = child\n",
    "    child_places        = [child.place]\n",
    "\n",
    "    return tree, child_places\n",
    "end\n"
   ]
  },
  {
   "cell_type": "code",
   "execution_count": 39,
   "metadata": {},
   "outputs": [
    {
     "data": {
      "text/plain": [
       "build_tree (generic function with 1 method)"
      ]
     },
     "execution_count": 39,
     "metadata": {},
     "output_type": "execute_result"
    }
   ],
   "source": [
    "function build_tree()\n",
    "    \n",
    "    #over_power::Int64           = 2^depth\n",
    "    #this_power::Int64           = over_power/2\n",
    "    #child_places::Array{Int64}  = []\n",
    "    #tree::Array{RationalNode}   = []\n",
    "        \n",
    "    # tree has configurable depth see config\n",
    "    depth::Int64            = get_depth()\n",
    "    node_count::Int64       = count_nodes(depth)\n",
    "    powers::Array{Int64}    = [2^x for x in (depth-1):-1:0]\n",
    "    this_power              = powers[1]    \n",
    "    tree, child_places      = init_tree(node_count,this_power)\n",
    "\n",
    "    for current_layer in 1:depth\n",
    "        this_power = powers[current_layer]    \n",
    "        grand_child_places  = []\n",
    "        for parent_place in child_places\n",
    "            left_child_place    =  parent_place - this_power \n",
    "            right_child_place   =  parent_place + this_power\n",
    "            append!(grand_child_places, [left_child_place, right_child_place])\n",
    "        end\n",
    "        child_places = grand_child_places\n",
    "        for this_child_place in child_places\n",
    "            left_parent         = tree[this_power+this_power+1]\n",
    "            right_parent        = tree[this_power-this_power+1]\n",
    "            child_place         = this_power\n",
    "            child_numerator     = left_parent.numerator   + right_parent.numerator\n",
    "            child_denominator   = left_parent.denominator + right_parent.denominator\n",
    "            child               = RationalNode(child_numerator,child_denominator,child_place,current_layer)\n",
    "            tree[child.place+1] = child\n",
    "        end\n",
    "    end\n",
    "    return tree\n",
    "end"
   ]
  },
  {
   "cell_type": "code",
   "execution_count": 40,
   "metadata": {},
   "outputs": [
    {
     "data": {
      "text/plain": [
       "draw_tree (generic function with 1 method)"
      ]
     },
     "execution_count": 40,
     "metadata": {},
     "output_type": "execute_result"
    }
   ],
   "source": [
    "# 5 view\n",
    "\n",
    "function draw_tree(tree)\n",
    "    depth       = get_depth()\n",
    "    over_power  = 2^depth\n",
    "    height      = 1+depth\n",
    "    width       = 1+over_power\n",
    "    numerator_host   = zeros(height,width)\n",
    "    denominator_host = zeros(height,width)\n",
    "\n",
    "    num_printable = \"\"\n",
    "    den_printable = \"\"\n",
    "    \n",
    "    for node in tree\n",
    "        numerator_host[node.layer][node.place]  = node.numerator\n",
    "        denominator_host[node.layer][node.place]= node.denominator\n",
    "    end\n",
    "\n",
    "    for num_row in enumerate(numerator_host)\n",
    "        both = zip(num_row[2],denominator_host[num_row[1]])\n",
    "        num_printable = \"\"\n",
    "        den_printable = \"\"\n",
    "        for x in both\n",
    "            if x == (0.0,0.0)\n",
    "                num_printable = num_printable*(\" \")\n",
    "                den_printable = den_printable*(\" \")\n",
    "            else\n",
    "                num_printable = num_printable*(str(int(x[1])))\n",
    "                den_printable = den_printable*(str(int(x[2])))\n",
    "            end\n",
    "        end\n",
    "    end\n",
    "    print(num_printable)\n",
    "    print(den_printable)\n",
    "end\n",
    "    "
   ]
  },
  {
   "cell_type": "code",
   "execution_count": 41,
   "metadata": {},
   "outputs": [
    {
     "name": "stdout",
     "output_type": "stream",
     "text": [
      "RationalNode(0, 1, 0, 0)\n",
      "RationalNode(1, 3, 1, 3)\n",
      "RationalNode(1, 2, 2, 2)\n",
      "RationalNode(0, 0, 3, 1)\n",
      "RationalNode(1, 1, 4, 1)\n",
      "RationalNode(0, 0, 5, 1)\n",
      "RationalNode(0, 0, 6, 1)\n",
      "RationalNode(0, 0, 7, 1)\n",
      "RationalNode(1, 0, 8, 0)\n"
     ]
    }
   ],
   "source": [
    "# 6 control\n",
    "\n",
    "function main_sb()\n",
    "    tree        = build_tree()\n",
    "    \n",
    "    for this_node in tree\n",
    "        println(this_node)\n",
    "    end\n",
    "    \n",
    "#    draw_tree(tree)\n",
    "\n",
    "\n",
    "#    depth           = get_depth()\n",
    " #   average_speed   = @time(build_tree)\n",
    "  #  print(\"\\nAveraged over a myriad of repeats my Python Stern-Brocot\\nimplementation takes \", average_speed, \" seconds.\")\n",
    "   # print(\"At a depth of \", depth, \" layers.\")\n",
    "end\n",
    "\n",
    "main_sb();"
   ]
  },
  {
   "cell_type": "code",
   "execution_count": 32,
   "metadata": {},
   "outputs": [
    {
     "name": "stdout",
     "output_type": "stream",
     "text": [
      "passed test count nodes\n",
      "RationalNode(0, 1, 0, 0)\n",
      "RationalNode(0, 0, 1, 1)\n",
      "RationalNode(0, 0, 2, 1)\n",
      "RationalNode(0, 0, 3, 1)\n",
      "RationalNode(0, 0, 4, 1)\n",
      "RationalNode(0, 0, 5, 1)\n",
      "RationalNode(0, 0, 6, 1)\n",
      "RationalNode(0, 0, 7, 1)\n",
      "RationalNode(0, 0, 8, 1)\n",
      "RationalNode(0, 0, 9, 1)\n",
      "RationalNode(0, 0, 10, 1)\n",
      "RationalNode(0, 0, 11, 1)\n",
      "RationalNode(0, 0, 12, 1)\n",
      "RationalNode(0, 0, 13, 1)\n",
      "RationalNode(0, 0, 14, 1)\n",
      "RationalNode(0, 0, 15, 1)\n",
      "RationalNode(1, 1, 16, 1)\n",
      "RationalNode(0, 0, 17, 1)\n",
      "RationalNode(0, 0, 18, 1)\n",
      "RationalNode(0, 0, 19, 1)\n",
      "RationalNode(0, 0, 20, 1)\n",
      "RationalNode(0, 0, 21, 1)\n",
      "RationalNode(0, 0, 22, 1)\n",
      "RationalNode(0, 0, 23, 1)\n",
      "RationalNode(0, 0, 24, 1)\n",
      "RationalNode(0, 0, 25, 1)\n",
      "RationalNode(0, 0, 26, 1)\n",
      "RationalNode(0, 0, 27, 1)\n",
      "RationalNode(0, 0, 28, 1)\n",
      "RationalNode(0, 0, 29, 1)\n",
      "RationalNode(0, 0, 30, 1)\n",
      "RationalNode(0, 0, 31, 1)\n",
      "RationalNode(1, 0, 32, 0)\n",
      "passed init tree\n",
      "passed all tests"
     ]
    }
   ],
   "source": [
    "function test_count_nodes()\n",
    "    depth = 0\n",
    "    node_count = count_nodes(depth)    \n",
    "    @test (node_count == 0) \n",
    "    \n",
    "    depth = 1\n",
    "    node_count = count_nodes(depth)\n",
    "    @test (node_count == 1) \n",
    "    \n",
    "    depth = 2\n",
    "    node_count = count_nodes(depth)\n",
    "    @test (node_count == 3) \n",
    "    \n",
    "    depth = 10\n",
    "    node_count = count_nodes(depth)\n",
    "    @test (node_count == 1023) \n",
    "    \n",
    "    depth = 21\n",
    "    node_count = count_nodes(depth)\n",
    "    @test (node_count == 2097151)\n",
    "    \n",
    "    println(\"passed test count nodes\")\n",
    "end\n",
    "\n",
    "function test_init_tree()\n",
    "    depth::Int64            = 1\n",
    "    node_count::Int64       = count_nodes(depth)\n",
    "    powers::Array{Int64}    = [2^x for x in (depth-1):-1:0]\n",
    "    this_power              = powers[1]    \n",
    "    tree, child_places      = init_tree(node_count,this_power)\n",
    "    \n",
    "    @test child_places == [1]\n",
    "    @test length(tree) == 3\n",
    "    \n",
    "    @test tree[1].numerator    == 0\n",
    "    @test tree[1].denominator  == 1\n",
    "    @test tree[1].place        == 0\n",
    "    @test tree[1].layer        == 0\n",
    "    \n",
    "    @test tree[2].numerator    == 1\n",
    "    @test tree[2].denominator  == 1\n",
    "    @test tree[2].place        == 1\n",
    "    @test tree[2].layer        == 1\n",
    "    \n",
    "    @test tree[3].numerator    == 1\n",
    "    @test tree[3].denominator  == 0\n",
    "    @test tree[3].place        == 2\n",
    "    @test tree[3].layer        == 0\n",
    "    \n",
    "    depth                   = 2\n",
    "    node_count              = count_nodes(depth)\n",
    "    powers                  = [2^x for x in (depth-1):-1:0]\n",
    "    this_power              = powers[1]    \n",
    "    tree, child_places      = init_tree(node_count,this_power)\n",
    "\n",
    "    @test child_places == [2]\n",
    "    @test length(tree) == 5\n",
    "    \n",
    "    @test tree[1].numerator    == 0\n",
    "    @test tree[1].denominator  == 1\n",
    "    @test tree[1].place        == 0\n",
    "    @test tree[1].layer        == 0\n",
    "    \n",
    "    @test tree[3].numerator    == 1\n",
    "    @test tree[3].denominator  == 1\n",
    "    @test tree[3].place        == 2\n",
    "    @test tree[3].layer        == 1\n",
    "    \n",
    "    @test tree[5].numerator    == 1\n",
    "    @test tree[5].denominator  == 0\n",
    "    @test tree[5].place        == 4\n",
    "    @test tree[5].layer        == 0\n",
    "    \n",
    "    depth                   = 5\n",
    "    node_count              = count_nodes(depth)\n",
    "    powers                  = [2^x for x in (depth-1):-1:0]\n",
    "    this_power              = powers[1]    \n",
    "    tree, child_places      = init_tree(node_count,this_power)\n",
    "\n",
    "    @test child_places == [16]\n",
    "    @test length(tree) == 33\n",
    "    \n",
    "    @test tree[1].numerator    == 0\n",
    "    @test tree[1].denominator  == 1\n",
    "    @test tree[1].place        == 0\n",
    "    @test tree[1].layer        == 0\n",
    "    \n",
    "    @test tree[17].numerator    == 1\n",
    "    @test tree[17].denominator  == 1\n",
    "    @test tree[17].place        == 16\n",
    "    @test tree[17].layer        == 1\n",
    "    \n",
    "    @test tree[33].numerator    == 1\n",
    "    @test tree[33].denominator  == 0\n",
    "    @test tree[33].place        == 32\n",
    "    @test tree[33].layer        == 0\n",
    "    \n",
    "    println(\"passed init tree\")\n",
    "end\n",
    "\n",
    "\n",
    "function JuliaSternBrocotTests()\n",
    "    test_count_nodes()\n",
    "    test_init_tree()\n",
    "    print(\"passed all tests\")\n",
    "end\n",
    "\n",
    "JuliaSternBrocotTests()"
   ]
  },
  {
   "cell_type": "code",
   "execution_count": null,
   "metadata": {},
   "outputs": [],
   "source": []
  },
  {
   "cell_type": "code",
   "execution_count": null,
   "metadata": {},
   "outputs": [],
   "source": []
  }
 ],
 "metadata": {
  "kernelspec": {
   "display_name": "Julia 1.7.0",
   "language": "julia",
   "name": "julia-1.7"
  },
  "language_info": {
   "file_extension": ".jl",
   "mimetype": "application/julia",
   "name": "julia",
   "version": "1.7.0"
  }
 },
 "nbformat": 4,
 "nbformat_minor": 4
}
