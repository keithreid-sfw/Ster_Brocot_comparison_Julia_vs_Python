{
 "cells": [
  {
   "cell_type": "code",
   "execution_count": null,
   "metadata": {},
   "outputs": [],
   "source": [
    "#=\n",
    "The MIT License (MIT)\n",
    "\n",
    "Copyright © 2023 Dr Keith S Reid CAilleach Computing Ltd\n",
    "\n",
    "Permission is hereby granted, free of charge, to any person obtaining a copy of this software and associated documentation files (the “Software”), to deal in the Software without restriction, including without limitation the rights to use, copy, modify, merge, publish, distribute, sublicense, and/or sell copies of the Software, and to permit persons to whom the Software is furnished to do so, subject to the following conditions:\n",
    "\n",
    "The above copyright notice and this permission notice shall be included in all copies or substantial portions of the Software.\n",
    "\n",
    "THE SOFTWARE IS PROVIDED “AS IS”, WITHOUT WARRANTY OF ANY KIND, EXPRESS OR IMPLIED, INCLUDING BUT NOT LIMITED TO THE WARRANTIES OF MERCHANTABILITY, FITNESS FOR A PARTICULAR PURPOSE AND NONINFRINGEMENT. IN NO EVENT SHALL THE AUTHORS OR COPYRIGHT HOLDERS BE LIABLE FOR ANY CLAIM, DAMAGES OR OTHER LIABILITY, WHETHER IN AN ACTION OF CONTRACT, TORT OR OTHERWISE, ARISING FROM, OUT OF OR IN CONNECTION WITH THE SOFTWARE OR THE USE OR OTHER DEALINGS IN THE SOFTWARE.\n",
    "\n",
    "=#\n",
    "\n",
    "#=\n",
    "\n",
    "Julia Version 1.8.1 (2022-09-06)\n",
    "\n",
    "Date 18 Feb 2023\n",
    "\n",
    "Box Spec\n",
    "\n",
    "            .-/+oossssoo+/-.               \n",
    "        `:+ssssssssssssssssss+:`           ------------ \n",
    "      -+ssssssssssssssssssyyssss+-         OS: Ubuntu 22.04.1 LTS x86_64 \n",
    "    .ossssssssssssssssssdMMMNysssso.       Host: \n",
    "   /ssssssssssshdmmNNmmyNMMMMhssssss/      Kernel: 5.15.0-60-generic \n",
    "  +ssssssssshmydMMMMMMMNddddyssssssss+     Uptime: \n",
    " /sssssssshNMMMyhhyyyyhmNMMMNhssssssss/    Packages: \n",
    ".ssssssssdMMMNhsssssssssshNMMMdssssssss.   Shell: bash 5.1.16 \n",
    "+sssshhhyNMMNyssssssssssssyNMMMysssssss+   Resolution: \n",
    "ossyNMMMNyMMhsssssssssssssshmmmhssssssso   DE: GNOME \n",
    "ossyNMMMNyMMhsssssssssssssshmmmhssssssso   WM: Mutter \n",
    "+sssshhhyNMMNyssssssssssssyNMMMysssssss+   WM Theme: Adwaita \n",
    ".ssssssssdMMMNhsssssssssshNMMMdssssssss.   Theme: \n",
    " /sssssssshNMMMyhhyyyyhdNMMMNhssssssss/    Icons: \n",
    "  +sssssssssdmydMMMMMMMMddddyssssssss+     Terminal: \n",
    "   /ssssssssssshdmNNNNmyNMMMMhssssss/      CPU: AMD Ryzen 9 3900X (24) @ 3.800G \n",
    "    .ossssssssssssssssssdMMMNysssso.       GPU: \n",
    "      -+sssssssssssssssssyyyssss+-         Memory: 64Gb RAM\n",
    "        `:+ssssssssssssssssss+:`\n",
    "            .-/+oossssoo+/-.                                       \n",
    "                                                                   \n",
    "\n",
    "=#\n",
    "\n",
    "#=\n",
    "Intent:\n",
    "Implement Sterne Broco in Python and Julia using TDD and nothing too clever\n",
    "For speed comparison\n",
    "Roughly simlar logic in the two versions\n",
    "=#"
   ]
  }
 ],
 "metadata": {
  "kernelspec": {
   "display_name": "Julia 1.8.1",
   "language": "julia",
   "name": "julia-1.8"
  },
  "language_info": {
   "file_extension": ".jl",
   "mimetype": "application/julia",
   "name": "julia",
   "version": "1.8.1"
  }
 },
 "nbformat": 4,
 "nbformat_minor": 4
}
